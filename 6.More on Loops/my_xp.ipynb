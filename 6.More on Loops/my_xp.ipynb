{
 "cells": [
  {
   "cell_type": "markdown",
   "metadata": {},
   "source": [
    "1.For loop & Range Method-"
   ]
  },
  {
   "cell_type": "code",
   "execution_count": 9,
   "metadata": {},
   "outputs": [
    {
     "name": "stdout",
     "output_type": "stream",
     "text": [
      "a\n",
      "b\n",
      "c\n",
      "d\n"
     ]
    }
   ],
   "source": [
    "s = \"abcd\"\n",
    "for i in s:\n",
    "    print(i)"
   ]
  },
  {
   "cell_type": "code",
   "execution_count": 16,
   "metadata": {},
   "outputs": [
    {
     "name": "stdout",
     "output_type": "stream",
     "text": [
      "0\n",
      "1\n",
      "2\n",
      "3\n",
      "4\n"
     ]
    }
   ],
   "source": [
    "n = int(input())\n",
    "for i in range(0,n,1):\n",
    "    print(i)"
   ]
  },
  {
   "cell_type": "code",
   "execution_count": 19,
   "metadata": {},
   "outputs": [
    {
     "name": "stdout",
     "output_type": "stream",
     "text": [
      "5\n",
      "4\n",
      "3\n",
      "2\n",
      "1\n"
     ]
    }
   ],
   "source": [
    "n = int(input())\n",
    "for i in range(n,0,-1):\n",
    "    print(i)"
   ]
  },
  {
   "attachments": {},
   "cell_type": "markdown",
   "metadata": {},
   "source": [
    "4.Print Multiples of 3-"
   ]
  },
  {
   "cell_type": "code",
   "execution_count": 25,
   "metadata": {},
   "outputs": [
    {
     "name": "stdout",
     "output_type": "stream",
     "text": [
      "3\n",
      "6\n",
      "9\n",
      "12\n",
      "15\n",
      "18\n",
      "21\n",
      "24\n",
      "27\n",
      "30\n",
      "33\n",
      "36\n",
      "39\n",
      "42\n",
      "45\n",
      "48\n",
      "51\n",
      "54\n",
      "57\n",
      "60\n",
      "63\n",
      "66\n",
      "69\n",
      "72\n",
      "75\n",
      "78\n",
      "81\n",
      "84\n",
      "87\n",
      "90\n",
      "93\n",
      "96\n",
      "99\n"
     ]
    }
   ],
   "source": [
    "a = int(input())\n",
    "b = int(input())\n",
    "\n",
    "for i in range(a,b+1,1):\n",
    "    if  i% 3 ==0:\n",
    "        print(i)"
   ]
  },
  {
   "cell_type": "code",
   "execution_count": 26,
   "metadata": {},
   "outputs": [
    {
     "name": "stdout",
     "output_type": "stream",
     "text": [
      "4\n"
     ]
    }
   ],
   "source": [
    "#a< b\n",
    "a = int(input())\n",
    "b = int(input())\n",
    "\n",
    "if a%3==0:\n",
    "    s =a\n",
    "elif a%3==1:\n",
    "    s = a+2\n",
    "else:\n",
    "    s = a+1\n",
    "\n",
    "for i in range(a,b+1,3):\n",
    "    print(i)"
   ]
  },
  {
   "attachments": {},
   "cell_type": "markdown",
   "metadata": {},
   "source": [
    "5.Check if a Number is Prime-"
   ]
  },
  {
   "cell_type": "code",
   "execution_count": 41,
   "metadata": {},
   "outputs": [
    {
     "name": "stdout",
     "output_type": "stream",
     "text": [
      "prime\n"
     ]
    }
   ],
   "source": [
    "#by for loop\n",
    "n = int(input())\n",
    "flag = False\n",
    "for d in range(2,n,1):\n",
    "    if n%d==0:\n",
    "        flag = True\n",
    "if flag:\n",
    "    print(\"not prime\")\n",
    "else:\n",
    "    print(\"prime\")"
   ]
  },
  {
   "cell_type": "code",
   "execution_count": null,
   "metadata": {},
   "outputs": [],
   "source": [
    "#by while loop\n",
    "n= int(input())\n",
    "d  =2\n",
    "flag=False\n",
    "while d<n:\n",
    "    if (n%d==0):\n",
    "        flag=True\n",
    "    d= d+1\n",
    "if flag:\n",
    "    print(\"not prime\")\n",
    "else:\n",
    "    print(\"prime\")"
   ]
  },
  {
   "attachments": {},
   "cell_type": "markdown",
   "metadata": {},
   "source": [
    "6.Pattern-"
   ]
  },
  {
   "cell_type": "code",
   "execution_count": 46,
   "metadata": {},
   "outputs": [
    {
     "name": "stdout",
     "output_type": "stream",
     "text": [
      "        1 \n",
      "      2 3 2 \n",
      "    3 4 5 4 3 \n",
      "  4 5 6 7 6 5 4 \n",
      "5 6 7 8 9 8 7 6 5 \n"
     ]
    }
   ],
   "source": [
    "n = int(input())\n",
    "for i in range(1,n+1,1):\n",
    "    #Spaces\n",
    "    for s in range(n-i):\n",
    "        print(\" \", end=\" \")\n",
    "        #part one\n",
    "    for j in range(i,2*i,1):\n",
    "        print(j, end=\" \")\n",
    "        #part 2\n",
    "    for j in range(2*i-2,i-1,-1):\n",
    "        print(j,end=\" \")\n",
    "    print()\n"
   ]
  },
  {
   "attachments": {},
   "cell_type": "markdown",
   "metadata": {},
   "source": [
    "7.Break Keyword-"
   ]
  },
  {
   "cell_type": "code",
   "execution_count": 49,
   "metadata": {},
   "outputs": [
    {
     "name": "stdout",
     "output_type": "stream",
     "text": [
      "1\n",
      "2\n",
      "3\n",
      "4\n"
     ]
    }
   ],
   "source": [
    "i =1\n",
    "while i<10:\n",
    "    if i==5:\n",
    "        break\n",
    "    print(i)\n",
    "    i = i+1"
   ]
  },
  {
   "cell_type": "code",
   "execution_count": 54,
   "metadata": {},
   "outputs": [
    {
     "name": "stdout",
     "output_type": "stream",
     "text": [
      "not prime\n"
     ]
    }
   ],
   "source": [
    "#by while loop\n",
    "n= int(input())\n",
    "d  =2\n",
    "flag=False\n",
    "while d<n:\n",
    "    if (n%d==0):\n",
    "        flag=True\n",
    "        break\n",
    "    d= d+1\n",
    "if flag:\n",
    "    print(\"not prime\")\n",
    "else:\n",
    "    print(\"prime\")"
   ]
  },
  {
   "cell_type": "code",
   "execution_count": 55,
   "metadata": {},
   "outputs": [
    {
     "name": "stdout",
     "output_type": "stream",
     "text": [
      "not prime\n"
     ]
    }
   ],
   "source": [
    "#by for loop\n",
    "n = int(input())\n",
    "flag = False\n",
    "for d in range(2,n,1):\n",
    "    if n%d==0:\n",
    "        flag = True\n",
    "        break\n",
    "if flag:\n",
    "    print(\"not prime\")\n",
    "else:\n",
    "    print(\"prime\")"
   ]
  },
  {
   "cell_type": "code",
   "execution_count": 57,
   "metadata": {},
   "outputs": [],
   "source": [
    "n = int(input())\n",
    "k =2 \n",
    "while k <= n:\n",
    "    d = 2\n",
    "    while d<k:\n",
    "        if k % d ==0:\n",
    "            flag = True\n",
    "            break\n",
    "        d = d+1\n",
    "    if (not(flag)):\n",
    "        print(k)\n",
    "    k = k+1"
   ]
  },
  {
   "attachments": {},
   "cell_type": "markdown",
   "metadata": {},
   "source": [
    "10.Else keyword with loops-"
   ]
  },
  {
   "cell_type": "code",
   "execution_count": 58,
   "metadata": {},
   "outputs": [
    {
     "name": "stdout",
     "output_type": "stream",
     "text": [
      "1\n",
      "2\n",
      "3\n",
      "4\n",
      "5\n",
      "6\n",
      "7\n",
      "8\n",
      "9\n",
      "This will be printed once at the end\n"
     ]
    }
   ],
   "source": [
    "i = 1\n",
    "while i<10:\n",
    "    print(i)\n",
    "    i = i + 1\n",
    "else:\n",
    "    print(\"This will be printed once at the end\")"
   ]
  },
  {
   "cell_type": "code",
   "execution_count": 59,
   "metadata": {},
   "outputs": [
    {
     "name": "stdout",
     "output_type": "stream",
     "text": [
      "1\n",
      "2\n",
      "3\n",
      "4\n",
      "5\n",
      "6\n",
      "7\n",
      "8\n",
      "9\n",
      "this will also printed once at the end\n"
     ]
    }
   ],
   "source": [
    "for i in range(1,10):\n",
    "    print(i)\n",
    "else:\n",
    "    print(\"this will also printed once at the end\")"
   ]
  },
  {
   "cell_type": "code",
   "execution_count": 60,
   "metadata": {},
   "outputs": [
    {
     "name": "stdout",
     "output_type": "stream",
     "text": [
      "prime number\n"
     ]
    }
   ],
   "source": [
    "n  =int(input())\n",
    "for d in range(2,n,1):\n",
    "    if n%d==0:\n",
    "        break\n",
    "else:\n",
    "    print(\"prime number\")"
   ]
  },
  {
   "attachments": {},
   "cell_type": "markdown",
   "metadata": {},
   "source": [
    "13.Continue keyword-"
   ]
  },
  {
   "cell_type": "code",
   "execution_count": 8,
   "metadata": {},
   "outputs": [
    {
     "name": "stdout",
     "output_type": "stream",
     "text": [
      "1\n",
      "2\n",
      "3\n",
      "4\n",
      "5\n",
      "6\n",
      "7\n",
      "8\n",
      "9\n",
      "10\n",
      "11\n",
      "12\n",
      "13\n",
      "14\n",
      "16\n",
      "17\n",
      "18\n",
      "19\n",
      "20\n"
     ]
    }
   ],
   "source": [
    "for i in range(1,21,1):\n",
    "    if (i==15):\n",
    "        continue\n",
    "    print(i)"
   ]
  },
  {
   "cell_type": "code",
   "execution_count": 11,
   "metadata": {},
   "outputs": [
    {
     "name": "stdout",
     "output_type": "stream",
     "text": [
      "2\n",
      "4\n",
      "6\n"
     ]
    }
   ],
   "source": [
    "n = int(input())\n",
    "for i in range(2,n+1,2):\n",
    "    if i%7==0:\n",
    "        continue\n",
    "    print(i)\n"
   ]
  },
  {
   "cell_type": "code",
   "execution_count": 13,
   "metadata": {},
   "outputs": [
    {
     "name": "stdout",
     "output_type": "stream",
     "text": [
      "2\n",
      "2\n",
      "4\n",
      "4\n",
      "6\n",
      "6\n",
      "8\n",
      "8\n"
     ]
    }
   ],
   "source": [
    "n = int(input())\n",
    "for i in range(2,n+1,2):\n",
    "    if i%7==0:\n",
    "        continue\n",
    "    print(i)\n",
    "    print(i)\n"
   ]
  },
  {
   "attachments": {},
   "cell_type": "markdown",
   "metadata": {},
   "source": [
    "16.Pass statements-"
   ]
  },
  {
   "cell_type": "code",
   "execution_count": 14,
   "metadata": {},
   "outputs": [
    {
     "name": "stdout",
     "output_type": "stream",
     "text": [
      "hey\n"
     ]
    }
   ],
   "source": [
    "i = 3\n",
    "if i<7:\n",
    "    pass\n",
    "\n",
    "print(\"hey\")"
   ]
  },
  {
   "cell_type": "code",
   "execution_count": null,
   "metadata": {},
   "outputs": [],
   "source": []
  }
 ],
 "metadata": {
  "kernelspec": {
   "display_name": "Python 3",
   "language": "python",
   "name": "python3"
  },
  "language_info": {
   "codemirror_mode": {
    "name": "ipython",
    "version": 3
   },
   "file_extension": ".py",
   "mimetype": "text/x-python",
   "name": "python",
   "nbconvert_exporter": "python",
   "pygments_lexer": "ipython3",
   "version": "3.7.9"
  },
  "orig_nbformat": 4
 },
 "nbformat": 4,
 "nbformat_minor": 2
}
