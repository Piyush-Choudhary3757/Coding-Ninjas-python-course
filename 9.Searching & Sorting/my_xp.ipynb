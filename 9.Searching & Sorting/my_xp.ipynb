{
 "cells": [
  {
   "attachments": {},
   "cell_type": "markdown",
   "metadata": {},
   "source": [
    "1.Binary Search Explain-"
   ]
  },
  {
   "cell_type": "code",
   "execution_count": 5,
   "metadata": {},
   "outputs": [
    {
     "name": "stdout",
     "output_type": "stream",
     "text": [
      "-1\n"
     ]
    }
   ],
   "source": [
    "def binarySearch(arr,element):\n",
    "    start = 0\n",
    "    end = len(arr)-1\n",
    "    \n",
    "    while (start < end):\n",
    "        mid = (start+end)//2\n",
    "        if (arr[mid]== element):\n",
    "            return mid\n",
    "        elif(arr[mid]< element):\n",
    "            start = mid+1\n",
    "        else:\n",
    "            end = mid-1\n",
    "    return -1\n",
    "\n",
    "arr = [1,2,8,9,11,12,70,89,98]\n",
    "index  = binarySearch(arr,4)\n",
    "print(index) "
   ]
  },
  {
   "attachments": {},
   "cell_type": "markdown",
   "metadata": {},
   "source": [
    "4.Selection Sort Explain-"
   ]
  },
  {
   "attachments": {},
   "cell_type": "markdown",
   "metadata": {},
   "source": [
    "5.Selection Sort Code-"
   ]
  },
  {
   "cell_type": "code",
   "execution_count": 5,
   "metadata": {},
   "outputs": [
    {
     "name": "stdout",
     "output_type": "stream",
     "text": [
      "[1, 2, 8, 9, 11, 12, 77, 89, 98]\n"
     ]
    }
   ],
   "source": [
    "def SelectionSort(arr):\n",
    "    length = len(arr)\n",
    "    # Put the correct element at ith Position\n",
    "    for i in range(length-1):\n",
    "        minIndex = i\n",
    "        #Calculating the index of minimum element for this iteration\n",
    "        for j in range(i+1,length):\n",
    "            if(arr[j] < arr[minIndex]):\n",
    "                minIndex=j\n",
    "        arr[i],arr[minIndex] = arr[minIndex],arr[i]\n",
    "\n",
    "arr = [1,2,8,9,11,77,89,12,98]\n",
    "SelectionSort(arr)\n",
    "print(arr) "
   ]
  },
  {
   "attachments": {},
   "cell_type": "markdown",
   "metadata": {},
   "source": [
    "6.Bubble Sort Explain-"
   ]
  },
  {
   "attachments": {},
   "cell_type": "markdown",
   "metadata": {},
   "source": [
    "8.Bubble Sort Code-"
   ]
  },
  {
   "cell_type": "code",
   "execution_count": 10,
   "metadata": {},
   "outputs": [
    {
     "name": "stdout",
     "output_type": "stream",
     "text": [
      "[1, 2, 3, 4, 5, 6, 7]\n"
     ]
    }
   ],
   "source": [
    "def BubbleSort(arr):\n",
    "    length  =len(arr)\n",
    "    #i is for n-1 round\n",
    "    #j is for in each iteration u need till length -1-i position\n",
    "    for i in range(length-1):\n",
    "        for j in range(length-1-i):\n",
    "            if(arr[j]>arr[j+1]):\n",
    "                arr[j],arr[j+1]=arr[j+1],arr[j]\n",
    "\n",
    "arr = [6,4,5,2,1,7,3]\n",
    "BubbleSort(arr)\n",
    "print(arr)"
   ]
  },
  {
   "attachments": {},
   "cell_type": "markdown",
   "metadata": {},
   "source": [
    "9.Insertion Sort Explain-"
   ]
  },
  {
   "attachments": {},
   "cell_type": "markdown",
   "metadata": {},
   "source": [
    "11.lnsertion Sort Code-"
   ]
  },
  {
   "cell_type": "code",
   "execution_count": 12,
   "metadata": {},
   "outputs": [
    {
     "name": "stdout",
     "output_type": "stream",
     "text": [
      "[1, 5, 6, 7, 8, 9]\n"
     ]
    }
   ],
   "source": [
    "def insertionSort(arr):\n",
    "    length = len(arr)\n",
    "    for i in range(1,length):\n",
    "        j = i-1\n",
    "        #Shifting elements till this condition hold\n",
    "        temp= arr[i]\n",
    "        while(j>=0 and arr[j]>temp):\n",
    "            arr[j+1]= arr[j]\n",
    "            j=j-1\n",
    "        #j+1 is correct position for the  ith element\n",
    "        arr[j+1]= temp\n",
    "\n",
    "arr = [9,8,5,6,7,1]\n",
    "insertionSort(arr)\n",
    "print(arr)"
   ]
  },
  {
   "attachments": {},
   "cell_type": "markdown",
   "metadata": {},
   "source": [
    "12.Merge Two Sorted Arrays Explain-"
   ]
  },
  {
   "attachments": {},
   "cell_type": "markdown",
   "metadata": {},
   "source": [
    "14.Merge Two Sorted Arrays Code-"
   ]
  },
  {
   "cell_type": "code",
   "execution_count": 13,
   "metadata": {},
   "outputs": [
    {
     "name": "stdout",
     "output_type": "stream",
     "text": [
      "[1, 2, 3, 4, 6, 7, 8, 9, 10]\n"
     ]
    }
   ],
   "source": [
    "def mergeSortedeArrays(arr1,arr2):\n",
    "    i=0\n",
    "    j=0\n",
    "    len1 = len(arr1)\n",
    "    len2 = len(arr2)\n",
    "\n",
    "    arr =[]\n",
    "\n",
    "    while((i<len1) and (j < len2)):\n",
    "        if (arr1[i]<arr2[j]):\n",
    "            arr.append(arr1[i])\n",
    "            i = i+1\n",
    "        else:\n",
    "            arr.append(arr2[j])\n",
    "            j = j+1\n",
    "    while (i<len1):\n",
    "        arr.append(arr1[i])\n",
    "        i = i+1\n",
    "\n",
    "    while(j< len2):\n",
    "        arr.append(arr2[j])\n",
    "        j = j+1\n",
    "    return arr\n",
    "arr1 = [1,4,9,10]\n",
    "arr2 = [2,3,6,7,8]\n",
    "arr = mergeSortedeArrays(arr1, arr2)\n",
    "print(arr)"
   ]
  },
  {
   "cell_type": "code",
   "execution_count": null,
   "metadata": {},
   "outputs": [],
   "source": []
  }
 ],
 "metadata": {
  "kernelspec": {
   "display_name": "Python 3",
   "language": "python",
   "name": "python3"
  },
  "language_info": {
   "codemirror_mode": {
    "name": "ipython",
    "version": 3
   },
   "file_extension": ".py",
   "mimetype": "text/x-python",
   "name": "python",
   "nbconvert_exporter": "python",
   "pygments_lexer": "ipython3",
   "version": "3.7.9"
  },
  "orig_nbformat": 4
 },
 "nbformat": 4,
 "nbformat_minor": 2
}
